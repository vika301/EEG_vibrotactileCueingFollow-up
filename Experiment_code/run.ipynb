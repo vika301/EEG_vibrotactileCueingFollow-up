{
 "cells": [
  {
   "cell_type": "code",
   "execution_count": 1,
   "metadata": {
    "scrolled": true
   },
   "outputs": [
    {
     "name": "stdout",
     "output_type": "stream",
     "text": [
      "Type in your participant_ID: 1\n",
      "----------------\n",
      "Start Experiment\n",
      "----------------\n",
      "\n",
      "\n",
      "The experiment includes:\n",
      "Trials per block:  200\n",
      "Repeats identical blocks 2 times.\n",
      "\n",
      "Connect belt via USB.\n",
      "Mode of the belt:  -1\n",
      "BeltEventNotifier: Event notifier started.\n",
      "Testing port: COM5\n",
      "module 'serial' has no attribute 'Serial'\n",
      "Testing port: COM6\n",
      "module 'serial' has no attribute 'Serial'\n",
      "BeltController: No belt serial port found.\n",
      "BeltEventNotifier: Event notifier stopped.\n",
      "+++++++++++++++++++++++++++++++++++\n",
      "          -BELT CONNECTED-         \n",
      "+++++++++++++++++++++++++++++++++++\n",
      "\n",
      "Start next block section!\n",
      "module 'pybelt.classicbelt' has no attribute 'p'\n"
     ]
    }
   ],
   "source": [
    " %run experiment_code.py\n",
    "    \n",
    "    "
   ]
  },
  {
   "cell_type": "code",
   "execution_count": null,
   "metadata": {},
   "outputs": [],
   "source": []
  }
 ],
 "metadata": {
  "kernelspec": {
   "display_name": "Python 3",
   "language": "python",
   "name": "python3"
  },
  "language_info": {
   "codemirror_mode": {
    "name": "ipython",
    "version": 3
   },
   "file_extension": ".py",
   "mimetype": "text/x-python",
   "name": "python",
   "nbconvert_exporter": "python",
   "pygments_lexer": "ipython3",
   "version": "3.7.2"
  }
 },
 "nbformat": 4,
 "nbformat_minor": 2
}
